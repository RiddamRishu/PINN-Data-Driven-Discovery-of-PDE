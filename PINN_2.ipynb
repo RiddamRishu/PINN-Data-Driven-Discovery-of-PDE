{
  "nbformat": 4,
  "nbformat_minor": 0,
  "metadata": {
    "colab": {
      "name": "PINN-2.ipynb",
      "provenance": [],
      "collapsed_sections": []
    },
    "kernelspec": {
      "display_name": "Python 3",
      "name": "python3"
    },
    "language_info": {
      "name": "python"
    }
  },
  "cells": [
    {
      "cell_type": "code",
      "metadata": {
        "id": "m82Ol8eqIAeN"
      },
      "source": [
        "import tensorflow as tf\n",
        "import numpy as np\n",
        "import scipy.io\n",
        "from tensorflow.keras import layers\n",
        "from tensorflow import keras\n",
        "from tensorflow.keras.layers import Flatten, Dense\n",
        "from tensorflow.keras.layers import Input, Dense, Activation, Concatenate\n",
        "from tensorflow.keras.models import Model\n",
        "import matplotlib.pyplot as plt"
      ],
      "execution_count": null,
      "outputs": []
    },
    {
      "cell_type": "markdown",
      "metadata": {
        "id": "NaXVfNXME7GW"
      },
      "source": [
        ""
      ]
    },
    {
      "cell_type": "code",
      "metadata": {
        "colab": {
          "base_uri": "https://localhost:8080/"
        },
        "id": "VzVESVtpNU-k",
        "outputId": "fba2a520-9a26-41ce-c597-ba5f1ed36c5a"
      },
      "source": [
        "import scipy.io\n",
        "from google.colab import drive\n",
        "drive.mount('/content/drive')"
      ],
      "execution_count": null,
      "outputs": [
        {
          "output_type": "stream",
          "name": "stdout",
          "text": [
            "Drive already mounted at /content/drive; to attempt to forcibly remount, call drive.mount(\"/content/drive\", force_remount=True).\n"
          ]
        }
      ]
    },
    {
      "cell_type": "code",
      "metadata": {
        "id": "PCQEZyIVNZIa"
      },
      "source": [
        "data = scipy.io.loadmat('/content/drive/My Drive/PINN/cylinder_nektar_wake.mat')"
      ],
      "execution_count": null,
      "outputs": []
    },
    {
      "cell_type": "code",
      "metadata": {
        "colab": {
          "base_uri": "https://localhost:8080/"
        },
        "id": "kUws3sbMOZCH",
        "outputId": "de45d524-61c3-4055-9063-0d1d0e318576"
      },
      "source": [
        "data"
      ],
      "execution_count": null,
      "outputs": [
        {
          "output_type": "execute_result",
          "data": {
            "text/plain": [
              "{'U_star': array([[[ 1.11419216e+00,  1.11755721e+00,  1.11956933e+00, ...,\n",
              "           1.16105653e+00,  1.16209316e+00,  1.16287446e+00],\n",
              "         [-4.09649775e-03,  1.09212754e-03,  3.28231641e-03, ...,\n",
              "          -1.14679740e-02, -1.46226631e-02, -1.78649950e-02]],\n",
              " \n",
              "        [[ 1.11102707e+00,  1.11424311e+00,  1.11623549e+00, ...,\n",
              "           1.16119046e+00,  1.16250501e+00,  1.16355997e+00],\n",
              "         [ 3.93130751e-04,  6.09231658e-03,  8.54240777e-03, ...,\n",
              "          -3.69331211e-03, -6.90960992e-03, -1.02375054e-02]],\n",
              " \n",
              "        [[ 1.10748452e+00,  1.11049848e+00,  1.11244362e+00, ...,\n",
              "           1.16080365e+00,  1.16241577e+00,  1.16375737e+00],\n",
              "         [ 4.42777717e-03,  1.06585027e-02,  1.33831464e-02, ...,\n",
              "           4.14245483e-03,  8.86993440e-04, -2.50609725e-03]],\n",
              " \n",
              "        ...,\n",
              " \n",
              "        [[ 1.04183122e+00,  1.07052197e+00,  1.08570786e+00, ...,\n",
              "           1.03561691e+00,  1.01482352e+00,  9.95607444e-01],\n",
              "         [-1.53233747e-01, -1.52906494e-01, -1.50934775e-01, ...,\n",
              "           1.70410243e-01,  1.74234015e-01,  1.74978509e-01]],\n",
              " \n",
              "        [[ 1.03144583e+00,  1.05940483e+00,  1.07424671e+00, ...,\n",
              "           1.05086925e+00,  1.02921296e+00,  1.00907934e+00],\n",
              "         [-1.52570327e-01, -1.53932097e-01, -1.52973975e-01, ...,\n",
              "           1.65974219e-01,  1.72307867e-01,  1.75206081e-01]],\n",
              " \n",
              "        [[ 1.02128975e+00,  1.04848021e+00,  1.06294889e+00, ...,\n",
              "           1.06667284e+00,  1.04430400e+00,  1.02333582e+00],\n",
              "         [-1.51330184e-01, -1.54252780e-01, -1.54219310e-01, ...,\n",
              "           1.59519620e-01,  1.68613705e-01,  1.73914810e-01]]]),\n",
              " 'X_star': array([[ 1.        , -2.        ],\n",
              "        [ 1.07070707, -2.        ],\n",
              "        [ 1.14141414, -2.        ],\n",
              "        ...,\n",
              "        [ 7.85858586,  2.        ],\n",
              "        [ 7.92929293,  2.        ],\n",
              "        [ 8.        ,  2.        ]]),\n",
              " '__globals__': [],\n",
              " '__header__': b'MATLAB 5.0 MAT-file Platform: posix, Created on: Fri Sep 22 23:02:15 2017',\n",
              " '__version__': '1.0',\n",
              " 'p_star': array([[-0.10815457, -0.11115509, -0.1123679 , ..., -0.10035143,\n",
              "         -0.09845376, -0.09658143],\n",
              "        [-0.10560371, -0.10881921, -0.1101648 , ..., -0.10137256,\n",
              "         -0.09959008, -0.09781616],\n",
              "        [-0.10257633, -0.10599348, -0.10746686, ..., -0.10204929,\n",
              "         -0.10039933, -0.09874095],\n",
              "        ...,\n",
              "        [ 0.0066028 ,  0.00272234,  0.00081532, ...,  0.01152894,\n",
              "          0.01414437,  0.01651662],\n",
              "        [ 0.007892  ,  0.00402109,  0.00209731, ...,  0.00927242,\n",
              "          0.01200894,  0.01451151],\n",
              "        [ 0.00915729,  0.00530504,  0.00337089, ...,  0.00691424,\n",
              "          0.00975565,  0.01238328]]),\n",
              " 't': array([[ 0. ],\n",
              "        [ 0.1],\n",
              "        [ 0.2],\n",
              "        [ 0.3],\n",
              "        [ 0.4],\n",
              "        [ 0.5],\n",
              "        [ 0.6],\n",
              "        [ 0.7],\n",
              "        [ 0.8],\n",
              "        [ 0.9],\n",
              "        [ 1. ],\n",
              "        [ 1.1],\n",
              "        [ 1.2],\n",
              "        [ 1.3],\n",
              "        [ 1.4],\n",
              "        [ 1.5],\n",
              "        [ 1.6],\n",
              "        [ 1.7],\n",
              "        [ 1.8],\n",
              "        [ 1.9],\n",
              "        [ 2. ],\n",
              "        [ 2.1],\n",
              "        [ 2.2],\n",
              "        [ 2.3],\n",
              "        [ 2.4],\n",
              "        [ 2.5],\n",
              "        [ 2.6],\n",
              "        [ 2.7],\n",
              "        [ 2.8],\n",
              "        [ 2.9],\n",
              "        [ 3. ],\n",
              "        [ 3.1],\n",
              "        [ 3.2],\n",
              "        [ 3.3],\n",
              "        [ 3.4],\n",
              "        [ 3.5],\n",
              "        [ 3.6],\n",
              "        [ 3.7],\n",
              "        [ 3.8],\n",
              "        [ 3.9],\n",
              "        [ 4. ],\n",
              "        [ 4.1],\n",
              "        [ 4.2],\n",
              "        [ 4.3],\n",
              "        [ 4.4],\n",
              "        [ 4.5],\n",
              "        [ 4.6],\n",
              "        [ 4.7],\n",
              "        [ 4.8],\n",
              "        [ 4.9],\n",
              "        [ 5. ],\n",
              "        [ 5.1],\n",
              "        [ 5.2],\n",
              "        [ 5.3],\n",
              "        [ 5.4],\n",
              "        [ 5.5],\n",
              "        [ 5.6],\n",
              "        [ 5.7],\n",
              "        [ 5.8],\n",
              "        [ 5.9],\n",
              "        [ 6. ],\n",
              "        [ 6.1],\n",
              "        [ 6.2],\n",
              "        [ 6.3],\n",
              "        [ 6.4],\n",
              "        [ 6.5],\n",
              "        [ 6.6],\n",
              "        [ 6.7],\n",
              "        [ 6.8],\n",
              "        [ 6.9],\n",
              "        [ 7. ],\n",
              "        [ 7.1],\n",
              "        [ 7.2],\n",
              "        [ 7.3],\n",
              "        [ 7.4],\n",
              "        [ 7.5],\n",
              "        [ 7.6],\n",
              "        [ 7.7],\n",
              "        [ 7.8],\n",
              "        [ 7.9],\n",
              "        [ 8. ],\n",
              "        [ 8.1],\n",
              "        [ 8.2],\n",
              "        [ 8.3],\n",
              "        [ 8.4],\n",
              "        [ 8.5],\n",
              "        [ 8.6],\n",
              "        [ 8.7],\n",
              "        [ 8.8],\n",
              "        [ 8.9],\n",
              "        [ 9. ],\n",
              "        [ 9.1],\n",
              "        [ 9.2],\n",
              "        [ 9.3],\n",
              "        [ 9.4],\n",
              "        [ 9.5],\n",
              "        [ 9.6],\n",
              "        [ 9.7],\n",
              "        [ 9.8],\n",
              "        [ 9.9],\n",
              "        [10. ],\n",
              "        [10.1],\n",
              "        [10.2],\n",
              "        [10.3],\n",
              "        [10.4],\n",
              "        [10.5],\n",
              "        [10.6],\n",
              "        [10.7],\n",
              "        [10.8],\n",
              "        [10.9],\n",
              "        [11. ],\n",
              "        [11.1],\n",
              "        [11.2],\n",
              "        [11.3],\n",
              "        [11.4],\n",
              "        [11.5],\n",
              "        [11.6],\n",
              "        [11.7],\n",
              "        [11.8],\n",
              "        [11.9],\n",
              "        [12. ],\n",
              "        [12.1],\n",
              "        [12.2],\n",
              "        [12.3],\n",
              "        [12.4],\n",
              "        [12.5],\n",
              "        [12.6],\n",
              "        [12.7],\n",
              "        [12.8],\n",
              "        [12.9],\n",
              "        [13. ],\n",
              "        [13.1],\n",
              "        [13.2],\n",
              "        [13.3],\n",
              "        [13.4],\n",
              "        [13.5],\n",
              "        [13.6],\n",
              "        [13.7],\n",
              "        [13.8],\n",
              "        [13.9],\n",
              "        [14. ],\n",
              "        [14.1],\n",
              "        [14.2],\n",
              "        [14.3],\n",
              "        [14.4],\n",
              "        [14.5],\n",
              "        [14.6],\n",
              "        [14.7],\n",
              "        [14.8],\n",
              "        [14.9],\n",
              "        [15. ],\n",
              "        [15.1],\n",
              "        [15.2],\n",
              "        [15.3],\n",
              "        [15.4],\n",
              "        [15.5],\n",
              "        [15.6],\n",
              "        [15.7],\n",
              "        [15.8],\n",
              "        [15.9],\n",
              "        [16. ],\n",
              "        [16.1],\n",
              "        [16.2],\n",
              "        [16.3],\n",
              "        [16.4],\n",
              "        [16.5],\n",
              "        [16.6],\n",
              "        [16.7],\n",
              "        [16.8],\n",
              "        [16.9],\n",
              "        [17. ],\n",
              "        [17.1],\n",
              "        [17.2],\n",
              "        [17.3],\n",
              "        [17.4],\n",
              "        [17.5],\n",
              "        [17.6],\n",
              "        [17.7],\n",
              "        [17.8],\n",
              "        [17.9],\n",
              "        [18. ],\n",
              "        [18.1],\n",
              "        [18.2],\n",
              "        [18.3],\n",
              "        [18.4],\n",
              "        [18.5],\n",
              "        [18.6],\n",
              "        [18.7],\n",
              "        [18.8],\n",
              "        [18.9],\n",
              "        [19. ],\n",
              "        [19.1],\n",
              "        [19.2],\n",
              "        [19.3],\n",
              "        [19.4],\n",
              "        [19.5],\n",
              "        [19.6],\n",
              "        [19.7],\n",
              "        [19.8],\n",
              "        [19.9]])}"
            ]
          },
          "metadata": {},
          "execution_count": 4
        }
      ]
    },
    {
      "cell_type": "code",
      "metadata": {
        "id": "2cjugM2FOi_P"
      },
      "source": [
        "U_star = data['U_star'].astype('float32') # N x 2 x T\n",
        "P_star = data['p_star'].astype('float32') # N x T\n",
        "t_star = data['t'].astype('float32') # T x 1\n",
        "X_star = data['X_star'].astype('float32') # N x 2"
      ],
      "execution_count": null,
      "outputs": []
    },
    {
      "cell_type": "code",
      "metadata": {
        "colab": {
          "base_uri": "https://localhost:8080/"
        },
        "id": "RKau1vWm5vGs",
        "outputId": "daff6759-efb3-4b42-d060-d735fb3ff678"
      },
      "source": [
        "P_star.shape"
      ],
      "execution_count": null,
      "outputs": [
        {
          "output_type": "execute_result",
          "data": {
            "text/plain": [
              "(5000, 200)"
            ]
          },
          "metadata": {},
          "execution_count": 6
        }
      ]
    },
    {
      "cell_type": "code",
      "metadata": {
        "colab": {
          "base_uri": "https://localhost:8080/"
        },
        "id": "B57OE8Db2FMk",
        "outputId": "35590c0c-ab16-4fc4-d385-9479bd35962b"
      },
      "source": [
        "X_star[:,0:1]"
      ],
      "execution_count": null,
      "outputs": [
        {
          "output_type": "execute_result",
          "data": {
            "text/plain": [
              "array([[1.       ],\n",
              "       [1.0707071],\n",
              "       [1.1414142],\n",
              "       ...,\n",
              "       [7.858586 ],\n",
              "       [7.929293 ],\n",
              "       [8.       ]], dtype=float32)"
            ]
          },
          "metadata": {},
          "execution_count": 7
        }
      ]
    },
    {
      "cell_type": "code",
      "metadata": {
        "colab": {
          "base_uri": "https://localhost:8080/"
        },
        "id": "6LWcZiau9WxX",
        "outputId": "4f0c6583-c828-49d1-c992-ba54f764ad3f"
      },
      "source": [
        "X_star[:,1:2]"
      ],
      "execution_count": null,
      "outputs": [
        {
          "output_type": "execute_result",
          "data": {
            "text/plain": [
              "array([[-2.],\n",
              "       [-2.],\n",
              "       [-2.],\n",
              "       ...,\n",
              "       [ 2.],\n",
              "       [ 2.],\n",
              "       [ 2.]], dtype=float32)"
            ]
          },
          "metadata": {},
          "execution_count": 8
        }
      ]
    },
    {
      "cell_type": "code",
      "metadata": {
        "colab": {
          "base_uri": "https://localhost:8080/"
        },
        "id": "xAoXxF2L9hCF",
        "outputId": "d013a2e7-6183-4122-ba0b-5062558cc4ce"
      },
      "source": [
        "t_star.shape"
      ],
      "execution_count": null,
      "outputs": [
        {
          "output_type": "execute_result",
          "data": {
            "text/plain": [
              "(200, 1)"
            ]
          },
          "metadata": {},
          "execution_count": 9
        }
      ]
    },
    {
      "cell_type": "code",
      "metadata": {
        "id": "Cr2inDMkOxem",
        "colab": {
          "base_uri": "https://localhost:8080/"
        },
        "outputId": "3f2e3eab-3256-44c0-bc92-59824775c820"
      },
      "source": [
        "N = X_star.shape[0]\n",
        "T = t_star.shape[0]\n",
        "print(N)\n",
        "print(T)"
      ],
      "execution_count": null,
      "outputs": [
        {
          "output_type": "stream",
          "name": "stdout",
          "text": [
            "5000\n",
            "200\n"
          ]
        }
      ]
    },
    {
      "cell_type": "code",
      "metadata": {
        "id": "F6X6vaJ4OztP"
      },
      "source": [
        "XX = np.tile(X_star[:,0:1], (1,T)) # N x T\n",
        "YY = np.tile(X_star[:,1:2], (1,T)) # N x T\n",
        "TT = np.tile(t_star, (1,N)).T # N x T\n",
        "    \n",
        "UU = U_star[:,0,:] # N x T\n",
        "VV = U_star[:,1,:] # N x T\n",
        "PP = P_star # N x T"
      ],
      "execution_count": null,
      "outputs": []
    },
    {
      "cell_type": "code",
      "metadata": {
        "colab": {
          "base_uri": "https://localhost:8080/"
        },
        "id": "wpXwFQxY5UfV",
        "outputId": "356344c2-a989-4203-b63b-a8d639384715"
      },
      "source": [
        "print(XX)\n",
        "print(XX.shape)"
      ],
      "execution_count": null,
      "outputs": [
        {
          "output_type": "stream",
          "name": "stdout",
          "text": [
            "[[1.        1.        1.        ... 1.        1.        1.       ]\n",
            " [1.0707071 1.0707071 1.0707071 ... 1.0707071 1.0707071 1.0707071]\n",
            " [1.1414142 1.1414142 1.1414142 ... 1.1414142 1.1414142 1.1414142]\n",
            " ...\n",
            " [7.858586  7.858586  7.858586  ... 7.858586  7.858586  7.858586 ]\n",
            " [7.929293  7.929293  7.929293  ... 7.929293  7.929293  7.929293 ]\n",
            " [8.        8.        8.        ... 8.        8.        8.       ]]\n",
            "(5000, 200)\n"
          ]
        }
      ]
    },
    {
      "cell_type": "code",
      "metadata": {
        "colab": {
          "base_uri": "https://localhost:8080/"
        },
        "id": "EKwiSOV29rdJ",
        "outputId": "b24a0b15-77d0-4ab3-f415-aac7233f06bd"
      },
      "source": [
        "print(TT)\n",
        "print(TT.shape)"
      ],
      "execution_count": null,
      "outputs": [
        {
          "output_type": "stream",
          "name": "stdout",
          "text": [
            "[[ 0.   0.1  0.2 ... 19.7 19.8 19.9]\n",
            " [ 0.   0.1  0.2 ... 19.7 19.8 19.9]\n",
            " [ 0.   0.1  0.2 ... 19.7 19.8 19.9]\n",
            " ...\n",
            " [ 0.   0.1  0.2 ... 19.7 19.8 19.9]\n",
            " [ 0.   0.1  0.2 ... 19.7 19.8 19.9]\n",
            " [ 0.   0.1  0.2 ... 19.7 19.8 19.9]]\n",
            "(5000, 200)\n"
          ]
        }
      ]
    },
    {
      "cell_type": "code",
      "metadata": {
        "id": "xiPOwRUPPNid"
      },
      "source": [
        "x = XX.flatten()[:,None] # NT x 1\n",
        "y = YY.flatten()[:,None] # NT x 1\n",
        "t = TT.flatten()[:,None] # NT x 1\n",
        "    \n",
        "u = UU.flatten()[:,None] # NT x 1\n",
        "v = VV.flatten()[:,None] # NT x 1\n",
        "p = PP.flatten()[:,None] # NT x 1"
      ],
      "execution_count": null,
      "outputs": []
    },
    {
      "cell_type": "code",
      "metadata": {
        "colab": {
          "base_uri": "https://localhost:8080/"
        },
        "id": "UdBAemRvw4RK",
        "outputId": "a9dbdabf-5871-4a35-bd8e-404699dbd21b"
      },
      "source": [
        "x"
      ],
      "execution_count": null,
      "outputs": [
        {
          "output_type": "execute_result",
          "data": {
            "text/plain": [
              "array([[1.],\n",
              "       [1.],\n",
              "       [1.],\n",
              "       ...,\n",
              "       [8.],\n",
              "       [8.],\n",
              "       [8.]], dtype=float32)"
            ]
          },
          "metadata": {},
          "execution_count": 15
        }
      ]
    },
    {
      "cell_type": "code",
      "metadata": {
        "id": "1wPuaW-hQTv7"
      },
      "source": [
        "N_train = 5000\n"
      ],
      "execution_count": null,
      "outputs": []
    },
    {
      "cell_type": "code",
      "metadata": {
        "id": "mKU0uxciUqZm"
      },
      "source": [
        "# Training Data    \n",
        "idx = np.random.choice(N*T, N_train, replace=False)\n",
        "x_train = tf.convert_to_tensor(x[idx,:].astype('float32'))\n",
        "y_train = tf.convert_to_tensor(y[idx,:].astype('float32'))\n",
        "t_train = tf.convert_to_tensor(t[idx,:].astype('float32'))\n",
        "u_train = tf.convert_to_tensor(u[idx,:].astype('float32'))\n",
        "v_train = tf.convert_to_tensor(v[idx,:].astype('float32'))"
      ],
      "execution_count": null,
      "outputs": []
    },
    {
      "cell_type": "code",
      "metadata": {
        "colab": {
          "base_uri": "https://localhost:8080/"
        },
        "id": "pxsrvWFIPqw7",
        "outputId": "459aab0a-266c-4ce8-a52f-450ac2937c36"
      },
      "source": [
        "tf.concat([x_train,y_train,t_train],1)"
      ],
      "execution_count": null,
      "outputs": [
        {
          "output_type": "execute_result",
          "data": {
            "text/plain": [
              "<tf.Tensor: shape=(5000, 3), dtype=float32, numpy=\n",
              "array([[ 6.5151515 ,  1.1836735 ,  4.4       ],\n",
              "       [ 3.969697  , -0.20408164, 11.8       ],\n",
              "       [ 7.080808  ,  0.12244898,  6.4       ],\n",
              "       ...,\n",
              "       [ 4.181818  , -0.04081633,  7.3       ],\n",
              "       [ 2.6969697 ,  0.36734694,  1.3       ],\n",
              "       [ 5.5252523 , -2.        , 18.        ]], dtype=float32)>"
            ]
          },
          "metadata": {
            "tags": []
          },
          "execution_count": 12
        }
      ]
    },
    {
      "cell_type": "code",
      "metadata": {
        "colab": {
          "base_uri": "https://localhost:8080/"
        },
        "id": "RDiJfK6_UeMm",
        "outputId": "0ce32f06-4aab-4fca-c986-0e2a730f9114"
      },
      "source": [
        "o=np.ones((5000,1)).astype('float32')\n",
        "o=tf.convert_to_tensor(o)\n",
        "o"
      ],
      "execution_count": null,
      "outputs": [
        {
          "output_type": "execute_result",
          "data": {
            "text/plain": [
              "<tf.Tensor: shape=(5000, 1), dtype=float32, numpy=\n",
              "array([[1.],\n",
              "       [1.],\n",
              "       [1.],\n",
              "       ...,\n",
              "       [1.],\n",
              "       [1.],\n",
              "       [1.]], dtype=float32)>"
            ]
          },
          "metadata": {
            "tags": []
          },
          "execution_count": 13
        }
      ]
    },
    {
      "cell_type": "markdown",
      "metadata": {
        "id": "h5cv8AwjWPy7"
      },
      "source": [
        "Custom Model\n"
      ]
    },
    {
      "cell_type": "code",
      "metadata": {
        "id": "eQyPsk4OQXYZ"
      },
      "source": [
        "class Custom_model1(Model):\n",
        "    \n",
        "    def __init__(self, **kwargs):\n",
        "        super(Custom_model1, self).__init__(**kwargs)\n",
        "        self.layer1 = Dense(20, activation='tanh',name='layer1')\n",
        "        self.layer2 = Dense(20, activation='tanh',name='layer2')\n",
        "        self.layer3 = Dense(20, activation='tanh',name='layer3')\n",
        "        self.layer4 = Dense(20, activation='tanh',name='layer4')\n",
        "        self.layer5 = Dense(20, activation='tanh',name='layer5')\n",
        "        self.layer6 = Dense(20, activation='tanh',name='layer6')\n",
        "        self.layer7 = Dense(20, activation='tanh',name='layer7')\n",
        "        self.layer8 = Dense(20, activation='tanh',name='layer8')\n",
        "        self.layer9 = Dense(2, activation=None,name='layer9')\n",
        "        self.layer10 = Dense(2, activation=None,use_bias=False)\n",
        "\n",
        "    def call(self, x, y, t, o):\n",
        "        z = self.layer1(tf.concat([x, y, t], 1))\n",
        "        z = self.layer2(z)\n",
        "        z = self.layer3(z)\n",
        "        z = self.layer4(z)\n",
        "        z = self.layer5(z)\n",
        "        z = self.layer6(z)\n",
        "        z = self.layer7(z)\n",
        "        z = self.layer8(z)\n",
        "        z = self.layer9(z)\n",
        "        z1 = self.layer10(o)\n",
        "        return z,z1\n"
      ],
      "execution_count": null,
      "outputs": []
    },
    {
      "cell_type": "code",
      "metadata": {
        "id": "XbADfQAxHpDS"
      },
      "source": [
        "#class Custom_model2(Model):\n",
        "    \n",
        "    #def __init__(self, **kwargs):\n",
        "        #super(Custom_model2, self).__init__(**kwargs)\n",
        "        #self.layer1 = Dense(2, activation=None, name='layer1',use_bias=False)\n",
        "        \n",
        "    #def call(self, o):\n",
        "        #return self.layer1(o)"
      ],
      "execution_count": null,
      "outputs": []
    },
    {
      "cell_type": "code",
      "metadata": {
        "id": "tstYKJA2VXx9"
      },
      "source": [
        "model = Custom_model1()"
      ],
      "execution_count": null,
      "outputs": []
    },
    {
      "cell_type": "code",
      "metadata": {
        "colab": {
          "base_uri": "https://localhost:8080/"
        },
        "id": "IU4gcVSA9XQv",
        "outputId": "253c93e8-4050-43cb-8255-59377be6eb49"
      },
      "source": [
        "model(x_train, y_train, t_train,o)"
      ],
      "execution_count": null,
      "outputs": [
        {
          "output_type": "execute_result",
          "data": {
            "text/plain": [
              "(<tf.Tensor: shape=(5000, 2), dtype=float32, numpy=\n",
              " array([[ 0.27631244,  0.16898388],\n",
              "        [-0.1041702 , -0.09406869],\n",
              "        [ 0.2534911 ,  0.19206755],\n",
              "        ...,\n",
              "        [-0.00285088,  0.03544   ],\n",
              "        [ 0.3095044 ,  0.13134691],\n",
              "        [-0.10985117, -0.10299194]], dtype=float32)>,\n",
              " <tf.Tensor: shape=(5000, 2), dtype=float32, numpy=\n",
              " array([[0.056319 , 0.7510258],\n",
              "        [0.056319 , 0.7510258],\n",
              "        [0.056319 , 0.7510258],\n",
              "        ...,\n",
              "        [0.056319 , 0.7510258],\n",
              "        [0.056319 , 0.7510258],\n",
              "        [0.056319 , 0.7510258]], dtype=float32)>)"
            ]
          },
          "metadata": {
            "tags": []
          },
          "execution_count": 17
        }
      ]
    },
    {
      "cell_type": "code",
      "metadata": {
        "colab": {
          "base_uri": "https://localhost:8080/"
        },
        "id": "hf9vlrkmZXka",
        "outputId": "7d19b832-0c41-4c6b-d9e1-24fc661f4eb6"
      },
      "source": [
        "model.layer10.trainable_weights"
      ],
      "execution_count": null,
      "outputs": [
        {
          "output_type": "execute_result",
          "data": {
            "text/plain": [
              "[<tf.Variable 'custom_model1/dense/kernel:0' shape=(1, 2) dtype=float32, numpy=array([[0.056319 , 0.7510258]], dtype=float32)>]"
            ]
          },
          "metadata": {
            "tags": []
          },
          "execution_count": 18
        }
      ]
    },
    {
      "cell_type": "code",
      "metadata": {
        "id": "PhwnkXMl7SpD"
      },
      "source": [
        "#outputLayerNN = model1.get_layer(name='layer9')\n",
        "#outputLayerNN"
      ],
      "execution_count": null,
      "outputs": []
    },
    {
      "cell_type": "code",
      "metadata": {
        "colab": {
          "base_uri": "https://localhost:8080/"
        },
        "id": "pOZwkibGX6lG",
        "outputId": "d658564f-5406-4ef1-faeb-1e055fa8a731"
      },
      "source": [
        "model.summary()"
      ],
      "execution_count": null,
      "outputs": [
        {
          "output_type": "stream",
          "text": [
            "Model: \"custom_model1\"\n",
            "_________________________________________________________________\n",
            "Layer (type)                 Output Shape              Param #   \n",
            "=================================================================\n",
            "layer1 (Dense)               multiple                  80        \n",
            "_________________________________________________________________\n",
            "layer2 (Dense)               multiple                  420       \n",
            "_________________________________________________________________\n",
            "layer3 (Dense)               multiple                  420       \n",
            "_________________________________________________________________\n",
            "layer4 (Dense)               multiple                  420       \n",
            "_________________________________________________________________\n",
            "layer5 (Dense)               multiple                  420       \n",
            "_________________________________________________________________\n",
            "layer6 (Dense)               multiple                  420       \n",
            "_________________________________________________________________\n",
            "layer7 (Dense)               multiple                  420       \n",
            "_________________________________________________________________\n",
            "layer8 (Dense)               multiple                  420       \n",
            "_________________________________________________________________\n",
            "layer9 (Dense)               multiple                  42        \n",
            "_________________________________________________________________\n",
            "dense (Dense)                multiple                  2         \n",
            "=================================================================\n",
            "Total params: 3,064\n",
            "Trainable params: 3,064\n",
            "Non-trainable params: 0\n",
            "_________________________________________________________________\n"
          ],
          "name": "stdout"
        }
      ]
    },
    {
      "cell_type": "code",
      "metadata": {
        "id": "LpLIwhX4ZnN2"
      },
      "source": [
        "#outputLayerLambda = model2.get_layer(name='layer1')\n",
        "#outputLayerLambda.trainable_variables"
      ],
      "execution_count": null,
      "outputs": []
    },
    {
      "cell_type": "code",
      "metadata": {
        "id": "CYqLA7WGo8iD"
      },
      "source": [
        "#outputLayerNN = model1(x_train,y_train,t_train)\n",
        "#outputLayerLambda = model2(o)"
      ],
      "execution_count": null,
      "outputs": []
    },
    {
      "cell_type": "code",
      "metadata": {
        "id": "TY_3evzV4q9m"
      },
      "source": [
        "#z = model1.layer1(tf.concat([x_train, y_train, t_train], 1))\n",
        "#z = model1.layer2(z)\n",
        "#z = model1.layer3(z)\n",
        "#z = model1.layer4(z)\n",
        "#z = model1.layer5(z)\n",
        "#z = model1.layer6(z)\n",
        "#z = model1.layer7(z)\n",
        "#z = model1.layer8(z)\n",
        "#outputLayerNN = model1.layer9(z)\n",
        "\n",
        "#outputLayerLambda=model2.layer1(o)'''"
      ],
      "execution_count": null,
      "outputs": []
    },
    {
      "cell_type": "code",
      "metadata": {
        "id": "1sRAML6vYLMe"
      },
      "source": [
        "#concatenated_layer = tf.keras.layers.concatenate([outputLayerNN,outputLayerLambda],axis=1)\n",
        "#concatenated_layer"
      ],
      "execution_count": null,
      "outputs": []
    },
    {
      "cell_type": "code",
      "metadata": {
        "id": "tPvbLD4Fp_MT"
      },
      "source": [
        "#input_new = tf.concat([x_train,y_train,t_train,o],1)\n",
        "#concatenated_layer = tf.keras.layers.Lambda(concatenated_layer)\n",
        "#model_new = Model(inputs=[x_train,y_train,t_train,o], outputs = concatenated_layer)\n",
        "#model_new = Model(inputs = Input(tensor=input_new), outputs = concatenated_layer)"
      ],
      "execution_count": null,
      "outputs": []
    },
    {
      "cell_type": "markdown",
      "metadata": {
        "id": "fBOmCnh7WLgc"
      },
      "source": [
        "Custom Loss"
      ]
    },
    {
      "cell_type": "code",
      "metadata": {
        "id": "h19KXS-1VnHH"
      },
      "source": [
        "#lambda1=0.0 \n",
        "#lambda2=0.0\n",
        "#lambda1"
      ],
      "execution_count": null,
      "outputs": []
    },
    {
      "cell_type": "code",
      "metadata": {
        "id": "upNORPrdV5vQ"
      },
      "source": [
        "def loss(model, u_train, v_train, x_train, y_train, t_train, o, training):\n",
        "  with tf.GradientTape(persistent = True) as t:\n",
        "    t.watch(x_train)\n",
        "    t.watch(y_train)\n",
        "    pred,lambd = model(x_train, y_train, t_train, o, training = training)\n",
        "    psi=pred[:,0:1]\n",
        "  u_pred=t.gradient(psi,y_train)\n",
        "  v_pred=-t.gradient(psi,x_train)\n",
        "  #f_u, f_v = residual_loss(model,x_train,y_train,t_train,o,lambd)\n",
        "  f_u, f_v = residual_loss(model,x_train,y_train,t_train,o)\n",
        "  return tf.reduce_mean(tf.square(u_train - u_pred)) + tf.reduce_mean(tf.square(v_train - v_pred)) + tf.reduce_mean(tf.square(f_u)) + tf.reduce_mean(tf.square(f_v))"
      ],
      "execution_count": null,
      "outputs": []
    },
    {
      "cell_type": "code",
      "metadata": {
        "id": "S7OBoCmVwfFN"
      },
      "source": [
        "def residual_loss(model,x,y,t,o):\n",
        "  #lambda1 = lambd[:,0:1]\n",
        "  #lambda2 = lambd[:,1:2]\n",
        "  with tf.GradientTape(persistent = True) as t3:\n",
        "    t3.watch(x)\n",
        "    t3.watch(y)\n",
        "    with tf.GradientTape(persistent = True) as t2:\n",
        "      t2.watch(x)\n",
        "      t2.watch(y)\n",
        "      t2.watch(t)\n",
        "      with tf.GradientTape(persistent = True) as t1:\n",
        "        t1.watch(x)\n",
        "        t1.watch(y)\n",
        "        pred,lambd = model(x,y,t,o)\n",
        "        psi=pred[:,0:1]\n",
        "        p=pred[:,1:2]\n",
        "        lambda1=lambd[:,0:1]\n",
        "        lambda2=lambd[:,1:2]\n",
        "      u = t1.gradient(psi,y)\n",
        "      v = -t1.gradient(psi,x)\n",
        "      p_x = t1.gradient(p,x)\n",
        "      p_y = t1.gradient(p,y)\n",
        "    u_t = t2.gradient(u,t)\n",
        "    u_x = t2.gradient(u,x)\n",
        "    u_y = t2.gradient(u,y)\n",
        "    v_t = t2.gradient(v,t)\n",
        "    v_x = t2.gradient(v,x)\n",
        "    v_y = t2.gradient(v,y) \n",
        "  u_xx = t3.gradient(u_x,x)\n",
        "  u_yy = t3.gradient(u_y,y)\n",
        "  v_xx = t3.gradient(v_x,x)\n",
        "  v_yy = t3.gradient(v_y,y)\n",
        "  f_u = u_t + lambda1*(u*u_x + v*u_y) + p_x - lambda2*(u_xx + u_yy) \n",
        "  f_v = v_t + lambda1*(u*v_x + v*v_y) + p_y - lambda2*(v_xx + v_yy)\n",
        "  return f_u, f_v"
      ],
      "execution_count": null,
      "outputs": []
    },
    {
      "cell_type": "code",
      "metadata": {
        "colab": {
          "base_uri": "https://localhost:8080/"
        },
        "id": "PFT9PTY-z8gt",
        "outputId": "14057c3d-2c8b-4644-8eb3-fa233024a31e"
      },
      "source": [
        "loss(model, u_train, v_train, x_train, y_train, t_train, o, training = True)"
      ],
      "execution_count": null,
      "outputs": [
        {
          "output_type": "execute_result",
          "data": {
            "text/plain": [
              "<tf.Tensor: shape=(), dtype=float32, numpy=0.92958546>"
            ]
          },
          "metadata": {
            "tags": []
          },
          "execution_count": 29
        }
      ]
    },
    {
      "cell_type": "code",
      "metadata": {
        "colab": {
          "base_uri": "https://localhost:8080/"
        },
        "id": "vLllMF7cQvXY",
        "outputId": "ec2d82f0-39b7-4045-fd66-c62c27e02b58"
      },
      "source": [
        "model.layer10.trainable_variables"
      ],
      "execution_count": null,
      "outputs": [
        {
          "output_type": "execute_result",
          "data": {
            "text/plain": [
              "[<tf.Variable 'custom_model1/dense/kernel:0' shape=(1, 2) dtype=float32, numpy=array([[0.056319 , 0.7510258]], dtype=float32)>]"
            ]
          },
          "metadata": {
            "tags": []
          },
          "execution_count": 30
        }
      ]
    },
    {
      "cell_type": "code",
      "metadata": {
        "colab": {
          "base_uri": "https://localhost:8080/"
        },
        "id": "tzfajRwz0K_g",
        "outputId": "a7d80bf5-21a3-409c-c4e9-4dd814f7d99c"
      },
      "source": [
        "def train(model, u_train, v_train, x_train, y_train, t_train,o):\n",
        "    with tf.GradientTape() as t:\n",
        "        current_loss = loss(model, u_train, v_train, x_train, y_train, t_train, o, training = True)\n",
        "    grads = t.gradient(current_loss, model.trainable_variables)\n",
        "    return current_loss, grads\n",
        "\n",
        "optimizer=tf.keras.optimizers.Adam(learning_rate=0.001)\n",
        "epoch=[]\n",
        "loss_plot=[]\n",
        "model = Custom_model1()\n",
        "ne=6000\n",
        "for i in range(ne):\n",
        "    loss_avg = tf.keras.metrics.Mean()\n",
        "    c_l,grad=train(model, u_train, v_train, x_train, y_train, t_train, o)\n",
        "    optimizer.apply_gradients((grad, var) for (grad, var) in zip(grad, model.trainable_variables) if grad is not None)\n",
        "    loss_avg.update_state(c_l)\n",
        "  \n",
        "    if i%100==0:\n",
        "      epoch.append(i)\n",
        "      loss_plot.append(loss_avg.result())\n",
        "      print(loss_avg.result())"
      ],
      "execution_count": null,
      "outputs": [
        {
          "output_type": "stream",
          "text": [
            "tf.Tensor(0.92924327, shape=(), dtype=float32)\n",
            "tf.Tensor(0.17139624, shape=(), dtype=float32)\n",
            "tf.Tensor(0.13884725, shape=(), dtype=float32)\n",
            "tf.Tensor(0.1249384, shape=(), dtype=float32)\n",
            "tf.Tensor(0.11631265, shape=(), dtype=float32)\n",
            "tf.Tensor(0.1131788, shape=(), dtype=float32)\n",
            "tf.Tensor(0.11088176, shape=(), dtype=float32)\n",
            "tf.Tensor(0.108620174, shape=(), dtype=float32)\n",
            "tf.Tensor(0.105983876, shape=(), dtype=float32)\n",
            "tf.Tensor(0.10294626, shape=(), dtype=float32)\n",
            "tf.Tensor(0.0990378, shape=(), dtype=float32)\n",
            "tf.Tensor(0.093546085, shape=(), dtype=float32)\n",
            "tf.Tensor(0.08559264, shape=(), dtype=float32)\n",
            "tf.Tensor(0.072315946, shape=(), dtype=float32)\n",
            "tf.Tensor(0.056846604, shape=(), dtype=float32)\n",
            "tf.Tensor(0.051166117, shape=(), dtype=float32)\n",
            "tf.Tensor(0.050121114, shape=(), dtype=float32)\n",
            "tf.Tensor(0.046260633, shape=(), dtype=float32)\n",
            "tf.Tensor(0.044788957, shape=(), dtype=float32)\n",
            "tf.Tensor(0.04575721, shape=(), dtype=float32)\n",
            "tf.Tensor(0.042578124, shape=(), dtype=float32)\n",
            "tf.Tensor(0.04040367, shape=(), dtype=float32)\n",
            "tf.Tensor(0.03944982, shape=(), dtype=float32)\n",
            "tf.Tensor(0.040543694, shape=(), dtype=float32)\n",
            "tf.Tensor(0.04321884, shape=(), dtype=float32)\n",
            "tf.Tensor(0.036429048, shape=(), dtype=float32)\n",
            "tf.Tensor(0.03551871, shape=(), dtype=float32)\n",
            "tf.Tensor(0.036733184, shape=(), dtype=float32)\n",
            "tf.Tensor(0.03356372, shape=(), dtype=float32)\n",
            "tf.Tensor(0.032745607, shape=(), dtype=float32)\n",
            "tf.Tensor(0.03151705, shape=(), dtype=float32)\n",
            "tf.Tensor(0.030660465, shape=(), dtype=float32)\n",
            "tf.Tensor(0.031142358, shape=(), dtype=float32)\n",
            "tf.Tensor(0.03216604, shape=(), dtype=float32)\n",
            "tf.Tensor(0.026949976, shape=(), dtype=float32)\n",
            "tf.Tensor(0.024203466, shape=(), dtype=float32)\n",
            "tf.Tensor(0.02137858, shape=(), dtype=float32)\n",
            "tf.Tensor(0.019639341, shape=(), dtype=float32)\n",
            "tf.Tensor(0.019203477, shape=(), dtype=float32)\n",
            "tf.Tensor(0.017136836, shape=(), dtype=float32)\n",
            "tf.Tensor(0.017359402, shape=(), dtype=float32)\n",
            "tf.Tensor(0.015371611, shape=(), dtype=float32)\n",
            "tf.Tensor(0.014919956, shape=(), dtype=float32)\n",
            "tf.Tensor(0.013960875, shape=(), dtype=float32)\n",
            "tf.Tensor(0.014140874, shape=(), dtype=float32)\n",
            "tf.Tensor(0.012906622, shape=(), dtype=float32)\n",
            "tf.Tensor(0.012635447, shape=(), dtype=float32)\n",
            "tf.Tensor(0.011446989, shape=(), dtype=float32)\n",
            "tf.Tensor(0.010835334, shape=(), dtype=float32)\n",
            "tf.Tensor(0.010557432, shape=(), dtype=float32)\n",
            "tf.Tensor(0.009401154, shape=(), dtype=float32)\n",
            "tf.Tensor(0.008906, shape=(), dtype=float32)\n",
            "tf.Tensor(0.008340575, shape=(), dtype=float32)\n",
            "tf.Tensor(0.007965799, shape=(), dtype=float32)\n",
            "tf.Tensor(0.007650732, shape=(), dtype=float32)\n",
            "tf.Tensor(0.007497548, shape=(), dtype=float32)\n",
            "tf.Tensor(0.007031931, shape=(), dtype=float32)\n",
            "tf.Tensor(0.00684729, shape=(), dtype=float32)\n",
            "tf.Tensor(0.006611322, shape=(), dtype=float32)\n",
            "tf.Tensor(0.00635983, shape=(), dtype=float32)\n"
          ],
          "name": "stdout"
        }
      ]
    },
    {
      "cell_type": "code",
      "metadata": {
        "colab": {
          "base_uri": "https://localhost:8080/"
        },
        "id": "pR8QOUjA2iuP",
        "outputId": "728ff714-52f1-4a53-909b-de8bb9348303"
      },
      "source": [
        "model.layer10.trainable_variables"
      ],
      "execution_count": null,
      "outputs": [
        {
          "output_type": "execute_result",
          "data": {
            "text/plain": [
              "[<tf.Variable 'custom_model1_1/dense_1/kernel:0' shape=(1, 2) dtype=float32, numpy=array([[0.9494514 , 0.01444297]], dtype=float32)>]"
            ]
          },
          "metadata": {
            "tags": []
          },
          "execution_count": 32
        }
      ]
    },
    {
      "cell_type": "code",
      "metadata": {
        "id": "PR_2MREjOEGg",
        "colab": {
          "base_uri": "https://localhost:8080/",
          "height": 279
        },
        "outputId": "689bf34e-7d24-4f6d-c6f0-b0868a4f36f3"
      },
      "source": [
        "# Plotting loss v/s epoch\n",
        "x_plot=epoch\n",
        "y_plot=loss_plot\n",
        "plt.plot(x_plot,y_plot)\n",
        "plt.xlabel('Epochs')\n",
        "plt.ylabel('Loss')\n",
        "plt.show()"
      ],
      "execution_count": null,
      "outputs": [
        {
          "output_type": "display_data",
          "data": {
            "image/png": "[encoded data removed]",
            "text/plain": [
              "<Figure size 432x288 with 1 Axes>"
            ]
          },
          "metadata": {
            "tags": [],
            "needs_background": "light"
          }
        }
      ]
    },
    {
      "cell_type": "code",
      "metadata": {
        "id": "r5xZlirHJjJV"
      },
      "source": [
        "# Test Data\n",
        "snap = np.array([100])\n",
        "x_star = X_star[:,0:1]\n",
        "y_star = X_star[:,1:2]\n",
        "t_star = TT[:,snap]\n",
        "    \n",
        "u_star = U_star[:,0,snap]\n",
        "v_star = U_star[:,1,snap]\n",
        "p_star = P_star[:,snap]"
      ],
      "execution_count": null,
      "outputs": []
    },
    {
      "cell_type": "code",
      "metadata": {
        "id": "8lr77YVlOI4O"
      },
      "source": [
        "x_star = tf.convert_to_tensor(x_star)\n",
        "y_star = tf.convert_to_tensor(y_star)\n",
        "t_star = tf.convert_to_tensor(t_star)\n",
        "u_star = tf.convert_to_tensor(u_star)\n",
        "v_star = tf.convert_to_tensor(v_star)\n",
        "p_star = tf.convert_to_tensor(p_star)"
      ],
      "execution_count": null,
      "outputs": []
    },
    {
      "cell_type": "code",
      "metadata": {
        "id": "TGqvlmj-NO5n"
      },
      "source": [
        "with tf.GradientTape(persistent = True) as t:\n",
        "    t.watch(x_star)\n",
        "    t.watch(y_star)\n",
        "    pred,lambd_pred = model(x_star, y_star, t_star, o)\n",
        "    psi=pred[:,0:1]\n",
        "    p_pred=pred[:,1:2]\n",
        "u_pred=t.gradient(psi,y_star)\n",
        "v_pred=-t.gradient(psi,x_star)"
      ],
      "execution_count": null,
      "outputs": []
    },
    {
      "cell_type": "code",
      "metadata": {
        "colab": {
          "base_uri": "https://localhost:8080/"
        },
        "id": "yPxyrU2qNvVq",
        "outputId": "9d7fe1c0-c8f8-41b1-a88f-c1f5dc0b5677"
      },
      "source": [
        "lambda1_pred=lambd_pred[:,0:1]\n",
        "lambda2_pred=lambd_pred[:,1:2]\n",
        "print(lambda1_pred[0])\n",
        "print(lambda2_pred[0])"
      ],
      "execution_count": null,
      "outputs": [
        {
          "output_type": "stream",
          "text": [
            "tf.Tensor([0.9494514], shape=(1,), dtype=float32)\n",
            "tf.Tensor([0.01444297], shape=(1,), dtype=float32)\n"
          ],
          "name": "stdout"
        }
      ]
    },
    {
      "cell_type": "code",
      "metadata": {
        "id": "YrI91xhUOtfl"
      },
      "source": [
        "    error_u = np.linalg.norm(u_star-u_pred,2)/np.linalg.norm(u_star,2)\n",
        "    error_v = np.linalg.norm(v_star-v_pred,2)/np.linalg.norm(v_star,2)\n",
        "    error_p = np.linalg.norm(p_star-p_pred,2)/np.linalg.norm(p_star,2)\n",
        "\n",
        "    error_lambda_1 = np.abs(lambda1_pred[0] - 1.0)*100\n",
        "    error_lambda_2 = np.abs(lambda2_pred[0] - 0.01)/0.01 * 100"
      ],
      "execution_count": null,
      "outputs": []
    },
    {
      "cell_type": "code",
      "metadata": {
        "colab": {
          "base_uri": "https://localhost:8080/"
        },
        "id": "HhVN40sFO4VQ",
        "outputId": "4b129112-3a31-46fd-e0ae-336b74c12335"
      },
      "source": [
        "    print('Error u: %e' % (error_u))    \n",
        "    print('Error v: %e' % (error_v))    \n",
        "    print('Error p: %e' % (error_p))    \n",
        "    print('Error l1: %.5f%%' % (error_lambda_1))                             \n",
        "    print('Error l2: %.5f%%' % (error_lambda_2))   "
      ],
      "execution_count": null,
      "outputs": [
        {
          "output_type": "stream",
          "text": [
            "Error u: 4.812890e-02\n",
            "Error v: 1.776092e-01\n",
            "Error p: 1.129468e+01\n",
            "Error l1: 5.05486%\n",
            "Error l2: 44.42966%\n"
          ],
          "name": "stdout"
        }
      ]
    },
    {
      "cell_type": "code",
      "metadata": {
        "id": "w_jnYe-5QXP3"
      },
      "source": [
        "u_pred = np.array(u_pred)\n",
        "v_pred = np.array(v_pred)\n",
        "p_pred = np.array(p_pred)\n",
        "p_star = np.array(p_star)\n",
        "x_star = np.array(x_star)\n",
        "y_star = np.array(y_star)\n",
        "t_star = np.array(t_star)\n"
      ],
      "execution_count": null,
      "outputs": []
    },
    {
      "cell_type": "code",
      "metadata": {
        "id": "ICtLbGaYPis-"
      },
      "source": [
        "    from scipy.interpolate import griddata\n",
        "    lb = X_star.min(0)\n",
        "    ub = X_star.max(0)\n",
        "    nn = 200\n",
        "    x = np.linspace(lb[0], ub[0], nn)\n",
        "    y = np.linspace(lb[1], ub[1], nn)\n",
        "    X, Y = np.meshgrid(x,y)\n",
        "    \n",
        "    UU_star = griddata(X_star, u_pred.flatten(), (X, Y), method='cubic')\n",
        "    VV_star = griddata(X_star, v_pred.flatten(), (X, Y), method='cubic')\n",
        "    PP_star = griddata(X_star, p_pred.flatten(), (X, Y), method='cubic')\n",
        "    P_exact = griddata(X_star, p_star.flatten(), (X, Y), method='cubic')"
      ],
      "execution_count": null,
      "outputs": []
    },
    {
      "cell_type": "code",
      "metadata": {
        "colab": {
          "base_uri": "https://localhost:8080/",
          "height": 172
        },
        "id": "rdtTLwSeSFke",
        "outputId": "39bd55a7-35ff-4386-e99b-0bfb70e7190f"
      },
      "source": [
        "    from matplotlib import gridspec\n",
        "    from mpl_toolkits.axes_grid1 import make_axes_locatable\n",
        "    from matplotlib.pyplot import colorbar\n",
        "\n",
        "    gs2 = gridspec.GridSpec(1, 2)\n",
        "    gs2.update(top=1, bottom=1-1/2, left=0.1, right=0.9, wspace=0.5)\n",
        "    ax = plt.subplot(gs2[:, 0])\n",
        "    h = ax.imshow(PP_star, interpolation='nearest', cmap='rainbow', \n",
        "                  extent=[x_star.min(), x_star.max(), y_star.min(), y_star.max()], \n",
        "                  origin='lower', aspect='auto')\n",
        "    #divider = make_axes_locatable(ax)\n",
        "    #cax = divider.append_axes(\"right\", size=\"5%\", pad=0.05)\n",
        "\n",
        "    #fig.colorbar(h, cax=cax)\n",
        "    ax.set_xlabel('$x$')\n",
        "    ax.set_ylabel('$y$')\n",
        "    ax.set_aspect('equal', 'box')\n",
        "    ax.set_title('Predicted pressure', fontsize = 10)"
      ],
      "execution_count": null,
      "outputs": [
        {
          "output_type": "execute_result",
          "data": {
            "text/plain": [
              "Text(0.5, 1.0, 'Predicted pressure')"
            ]
          },
          "metadata": {
            "tags": []
          },
          "execution_count": 105
        },
        {
          "output_type": "display_data",
          "data": {
            "image/png": "[encoded data removed]",
            "text/plain": [
              "<Figure size 432x288 with 1 Axes>"
            ]
          },
          "metadata": {
            "tags": [],
            "needs_background": "light"
          }
        }
      ]
    },
    {
      "cell_type": "code",
      "metadata": {
        "colab": {
          "base_uri": "https://localhost:8080/",
          "height": 172
        },
        "id": "Ne6FDoFKScit",
        "outputId": "da8cdbbf-3275-485e-e8dd-b608cf0dcd9e"
      },
      "source": [
        "    ax = plt.subplot(gs2[:, 1])\n",
        "    h = ax.imshow(P_exact, interpolation='nearest', cmap='rainbow', \n",
        "                  extent=[x_star.min(), x_star.max(), y_star.min(), y_star.max()], \n",
        "                  origin='lower', aspect='auto')\n",
        "    #divider = make_axes_locatable(ax)\n",
        "    #cax = divider.append_axes(\"right\", size=\"5%\", pad=0.05)\n",
        "\n",
        "    #fig.colorbar(h, cax=cax)\n",
        "    ax.set_xlabel('$x$')\n",
        "    ax.set_ylabel('$y$')\n",
        "    ax.set_aspect('equal', 'box')\n",
        "    ax.set_title('Exact pressure', fontsize = 10)"
      ],
      "execution_count": null,
      "outputs": [
        {
          "output_type": "execute_result",
          "data": {
            "text/plain": [
              "Text(0.5, 1.0, 'Exact pressure')"
            ]
          },
          "metadata": {
            "tags": []
          },
          "execution_count": 106
        },
        {
          "output_type": "display_data",
          "data": {
            "image/png": "[encoded data removed]",
            "text/plain": [
              "<Figure size 432x288 with 1 Axes>"
            ]
          },
          "metadata": {
            "tags": [],
            "needs_background": "light"
          }
        }
      ]
    },
    {
      "cell_type": "code",
      "metadata": {
        "colab": {
          "base_uri": "https://localhost:8080/",
          "height": 192
        },
        "id": "U8JlewcLQwy7",
        "outputId": "3fe63440-c1ec-4e3a-8f34-c02f807c6bcb"
      },
      "source": [
        "    from matplotlib import gridspec\n",
        "    gs1 = gridspec.GridSpec(1, 2)\n",
        "    gs1.update(top=1-2/4, bottom=0.0, left=0.01, right=0.99, wspace=0)\n",
        "    ax = plt.subplot(gs1[:, 0],  projection='3d')\n",
        "    ax.axis('off')\n",
        "\n",
        "    r1 = [x_star.min(), x_star.max()]\n",
        "    r2 = [data['t'].min(), data['t'].max()]       \n",
        "    r3 = [y_star.min(), y_star.max()]\n",
        "    \n",
        "    for s, e in combinations(np.array(list(product(r1,r2,r3))), 2):\n",
        "        if np.sum(np.abs(s-e)) == r1[1]-r1[0] or np.sum(np.abs(s-e)) == r2[1]-r2[0] or np.sum(np.abs(s-e)) == r3[1]-r3[0]:\n",
        "            ax.plot3D(*zip(s,e), color=\"k\", linewidth = 0.5)   \n",
        "\n",
        "    ax.scatter(x_train, t_train, y_train, s = 0.1)\n",
        "    ax.contourf(X,UU_star,Y, zdir = 'y', offset = t_star.mean(), cmap='rainbow', alpha = 0.8)\n",
        "              \n",
        "    ax.text(x_star.mean(), data['t'].min() - 1, y_star.min() - 1, '$x$')\n",
        "    ax.text(x_star.max()+1, data['t'].mean(), y_star.min() - 1, '$t$')\n",
        "    ax.text(x_star.min()-1, data['t'].min() - 0.5, y_star.mean(), '$y$')\n",
        "    ax.text(x_star.min()-3, data['t'].mean(), y_star.max() + 1, '$u(t,x,y)$')    \n",
        "    ax.set_xlim3d(r1)\n",
        "    ax.set_ylim3d(r2)\n",
        "    ax.set_zlim3d(r3)\n",
        "    #axisEqual3D(ax)"
      ],
      "execution_count": null,
      "outputs": [
        {
          "output_type": "execute_result",
          "data": {
            "text/plain": [
              "(-2.0, 2.0)"
            ]
          },
          "metadata": {
            "tags": []
          },
          "execution_count": 108
        },
        {
          "output_type": "display_data",
          "data": {
            "image/png": "[encoded data removed]",
            "text/plain": [
              "<Figure size 432x288 with 1 Axes>"
            ]
          },
          "metadata": {
            "tags": [],
            "needs_background": "light"
          }
        }
      ]
    },
    {
      "cell_type": "code",
      "metadata": {
        "colab": {
          "base_uri": "https://localhost:8080/",
          "height": 192
        },
        "id": "S8t8z56QWRKC",
        "outputId": "91a68078-2257-42b6-9e1b-a817ff9b4d86"
      },
      "source": [
        "    ax = plt.subplot(gs1[:, 1],  projection='3d')\n",
        "    ax.axis('off')\n",
        "    \n",
        "    r1 = [x_star.min(), x_star.max()]\n",
        "    r2 = [data['t'].min(), data['t'].max()]       \n",
        "    r3 = [y_star.min(), y_star.max()]\n",
        "    \n",
        "    for s, e in combinations(np.array(list(product(r1,r2,r3))), 2):\n",
        "        if np.sum(np.abs(s-e)) == r1[1]-r1[0] or np.sum(np.abs(s-e)) == r2[1]-r2[0] or np.sum(np.abs(s-e)) == r3[1]-r3[0]:\n",
        "            ax.plot3D(*zip(s,e), color=\"k\", linewidth = 0.5)   \n",
        "\n",
        "    ax.scatter(x_train, t_train, y_train, s = 0.1)\n",
        "    ax.contourf(X,VV_star,Y, zdir = 'y', offset = t_star.mean(), cmap='rainbow', alpha = 0.8)\n",
        "              \n",
        "    ax.text(x_star.mean(), data['t'].min() - 1, y_star.min() - 1, '$x$')\n",
        "    ax.text(x_star.max()+1, data['t'].mean(), y_star.min() - 1, '$t$')\n",
        "    ax.text(x_star.min()-1, data['t'].min() - 0.5, y_star.mean(), '$y$')\n",
        "    ax.text(x_star.min()-3, data['t'].mean(), y_star.max() + 1, '$v(t,x,y)$')    \n",
        "    ax.set_xlim3d(r1)\n",
        "    ax.set_ylim3d(r2)\n",
        "    ax.set_zlim3d(r3)"
      ],
      "execution_count": null,
      "outputs": [
        {
          "output_type": "execute_result",
          "data": {
            "text/plain": [
              "(-2.0, 2.0)"
            ]
          },
          "metadata": {
            "tags": []
          },
          "execution_count": 109
        },
        {
          "output_type": "display_data",
          "data": {
            "image/png": "[encoded data removed]",
            "text/plain": [
              "<Figure size 432x288 with 1 Axes>"
            ]
          },
          "metadata": {
            "tags": [],
            "needs_background": "light"
          }
        }
      ]
    },
    {
      "cell_type": "code",
      "metadata": {
        "id": "e0VXsaxLWZLJ"
      },
      "source": [
        ""
      ],
      "execution_count": null,
      "outputs": []
    }
  ]
}